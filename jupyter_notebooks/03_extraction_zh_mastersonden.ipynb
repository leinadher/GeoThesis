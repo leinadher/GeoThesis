{
 "cells": [
  {
   "cell_type": "markdown",
   "id": "c8b20360-7282-4fdd-9c4c-f50ab5bd6ba0",
   "metadata": {},
   "source": [
    "# 03 - Extraction - Geothermal Probes ZH\n",
    "### Author: Daniel Herrera-Russert\n",
    "#### January 28, 2025"
   ]
  },
  {
   "cell_type": "code",
   "execution_count": 2,
   "id": "cd8a4edf-8533-473c-be6b-c12c3d378e16",
   "metadata": {},
   "outputs": [],
   "source": [
    "# !pip install geopandas owslib requests pyproj"
   ]
  },
  {
   "cell_type": "code",
   "execution_count": 3,
   "id": "ee895816-7604-45d9-b567-0850eb648b07",
   "metadata": {},
   "outputs": [],
   "source": [
    "import pandas as pd\n",
    "import numpy as np\n",
    "import os\n",
    "from datetime import datetime\n",
    "from owslib.wfs import WebFeatureService\n",
    "import geopandas as gpd\n",
    "import requests\n",
    "from io import BytesIO\n",
    "import matplotlib.pyplot as plt\n",
    "import seaborn as sns\n",
    "import plotly.express as px\n",
    "import plotly.io as pio\n",
    "import plotly.graph_objects as go\n",
    "from plotly.subplots import make_subplots\n",
    "from pyproj import Transformer # for converting coordinates\n",
    "\n",
    "# Set the default renderer for JupyterLab\n",
    "pio.renderers.default = 'iframe'"
   ]
  },
  {
   "cell_type": "markdown",
   "id": "4a04105b-c52d-437c-bd12-4c4644dc5756",
   "metadata": {},
   "source": [
    "---\n",
    "\n",
    "## 1. Loading the dataset\n",
    "\n",
    "We begin with a look at the [Wärmenutzungsatlas](https://maps.zh.ch/?offlayers=bezirkslabels&scale=320000&srid=2056&topic=AwelGSWaermewwwZH&x=2692500&y=1252500) of Kanton Zürich. The data is retrieved from the GIS portal via WFS service, in order to obtain the separate layers preserving the geographic data qualities. Alternatively, it could be downloaded manually directly from the GIS download section in a variety of formats for different purposes.\n",
    "\n",
    "Following is the extraction and exploration of the dataset, corresponding to the layer containing the earth probes (Erdwärmesonden). First of all, calling the WFS services contents provides a list of all available data layers that can be retrieved."
   ]
  },
  {
   "cell_type": "code",
   "execution_count": 4,
   "id": "bc659f70-4b05-4917-9914-974132db4acb",
   "metadata": {},
   "outputs": [
    {
     "name": "stdout",
     "output_type": "stream",
     "text": [
      "Available layers:\n",
      "ms:waermenutzung-zone-a\n",
      "ms:waermenutzung-zone-b\n",
      "ms:waermenutzung-zone-c\n",
      "ms:waermenutzung-zone-d\n",
      "ms:waermenutzung-zone-e\n",
      "ms:waermenutzung-zone-f\n",
      "ms:erdwaermesonden-auflagen\n",
      "ms:tunnels-und-stollen\n",
      "ms:erdwaermesonden\n",
      "ms:sonden\n",
      "ms:sammelschacht\n",
      "ms:grundwasserpiezometer\n",
      "ms:erdregister\n",
      "ms:quellfassung-waermenutzung\n",
      "ms:grundwasserfassung-waermenutzung\n",
      "ms:quellfassung-ohne-waermenutzung\n",
      "ms:grundwasserfassung-ohne-waermenutzung\n"
     ]
    }
   ],
   "source": [
    "# Define the WFS endpoint\n",
    "WFS_URL = \"https://maps.zh.ch/wfs/AwelGSWaermewwwZHWFS\"\n",
    "\n",
    "# Connect to the WFS service\n",
    "wfs = WebFeatureService(WFS_URL, version=\"2.0.0\")\n",
    "\n",
    "# List available layers\n",
    "print(\"Available layers:\")\n",
    "for layer in list(wfs.contents):\n",
    "    print(layer)"
   ]
  },
  {
   "cell_type": "markdown",
   "id": "8df35dab-1eae-49d6-86d6-8346a3aa6550",
   "metadata": {},
   "source": [
    "The main data source for the entire project can be found under the `ms_erdwaermesonden` layer, containing the data for all approved EWS (ground heat probes) installations across the canton. Similarly, we extract the `ms:sonden` dataset, as it may provide valuable additional data.\n",
    "\n",
    "Both the `ms:sonden` and `ms:erdwaermesonden` layers from the Wärmenutzungsatlas Zürich represent **approved geothermal borehole–heat pump systems** in the canton. These data are maintained by the Office for Waste, Water, Energy, and Air (AWEL), specifically the Department of Water Protection. The dataset is continuously updated and made available as part of the canton’s public geodata services.\n",
    "\n",
    "The dataset is primarily **informative** and does not reflect the legal or construction status of the systems. Full metadata and official documentation can be accessed via the [Geolion dataset page](https://www.geolion.zh.ch/geodatensatz/show?gdsid=182).\n",
    "\n",
    "\n",
    "### Mastersonden (`GS_MASTERSONDEN_P`, GIS-ZH Nr. 182.1)\n",
    "\n",
    "This layer represents geothermal boreholes that are located on the same land parcel as the associated heat pump. These are the primary installations used in geothermal systems and contain key technical and thermal attributes relevant for modelling.\n",
    "\n",
    "| Field               | Type         | Unit | Description                                      |\n",
    "|--------------------|--------------|------|--------------------------------------------------|\n",
    "| BOHRPROFIL         | String       | –    | Indicates if a drilling profile is available     |\n",
    "| GBS_ID             | String       | –    | Unique identifier for the mastersonde            |\n",
    "| GESAMTSONDENANZAHL | Double       | –    | Total number of associated boreholes             |\n",
    "| SONDENTIEFE        | Long Integer | m    | Borehole depth                                   |\n",
    "| WAERMEENTNAHME     | Double       | kW   | Extracted heat power                             |\n",
    "| WAERMEEINTRAG      | Double       | kW   | Injected heat power (if applicable)              |\n",
    "| X_KOORD            | Long Integer | –    | Swiss LV95 coordinate (east)                     |\n",
    "| Y_KOORD            | Long Integer | –    | Swiss LV95 coordinate (north)                    |\n",
    "\n",
    "\n",
    "### Sonden (`GS_SONDEN_P`, GIS-ZH Nr. 182.2)\n",
    "\n",
    "This dataset includes additional geothermal probes that are linked to a mastersonde but are located on a different land parcel. These entries serve as spatial and administrative extensions to the main geothermal system but do not include depth or thermal performance data.\n",
    "\n",
    "| Field           | Type         | Description                                      |\n",
    "|----------------|--------------|--------------------------------------------------|\n",
    "| GBS_ID         | String       | Identifier linking the probe to its mastersonde |\n",
    "| GUELTIGKEIT    | String       | Validity status                                  |\n",
    "| KATASTERNUMMER | String       | Parcel identification number                     |\n",
    "| S_ID           | String       | Unique ID for the secondary probe                |\n",
    "| X_KOORD        | Long Integer | Swiss LV95 coordinate (east)                     |\n",
    "| Y_KOORD        | Long Integer | Swiss LV95 coordinate (north)                    |\n",
    "\n",
    "\n",
    "These two layers complement each other spatially, but only the mastersonden layer contains the necessary attributes for thermal or engineering analysis."
   ]
  },
  {
   "cell_type": "code",
   "execution_count": 5,
   "id": "d93fcc06-7915-4353-936b-d42a68526c68",
   "metadata": {},
   "outputs": [
    {
     "name": "stdout",
     "output_type": "stream",
     "text": [
      "Fetching layer: ms:erdwaermesonden\n",
      "Saved zh_geothermal_probes.geojson with 35927 features. Logged to '../data/raw/data_fetch_log.txt'.\n",
      "Fetching layer: ms:sonden\n",
      "Saved zh_probes.geojson with 973 features. Logged to '../data/raw/data_fetch_log.txt'.\n"
     ]
    }
   ],
   "source": [
    "# Define your WFS layers and output filenames\n",
    "layers = {\n",
    "    \"ms:erdwaermesonden\": \"zh_geothermal_probes.geojson\",\n",
    "    \"ms:sonden\": \"zh_probes.geojson\"\n",
    "}\n",
    "\n",
    "# Set up paths\n",
    "output_dir = \"../data/raw/\"\n",
    "log_path = output_dir + \"data_fetch_log.txt\"\n",
    "\n",
    "# Loop through each WFS layer and process\n",
    "for layer_name, filename in layers.items():\n",
    "    print(f\"Fetching layer: {layer_name}\")\n",
    "    \n",
    "    # Request data from WFS\n",
    "    response = wfs.getfeature(typename=layer_name, outputFormat=\"GML2\")\n",
    "    \n",
    "    # Load into GeoDataFrame\n",
    "    gdf = gpd.read_file(BytesIO(response.read()))\n",
    "    \n",
    "    # Assign CRS if missing (assume LV95 for Zurich)\n",
    "    if gdf.crs is None:\n",
    "        gdf.set_crs(\"EPSG:2056\", inplace=True)\n",
    "    \n",
    "    # Save GeoJSON\n",
    "    output_path = output_dir + filename\n",
    "    gdf.to_file(output_path, driver=\"GeoJSON\")\n",
    "    \n",
    "    # Prepare log entry\n",
    "    timestamp = datetime.now().strftime(\"%Y-%m-%d %H:%M:%S\")\n",
    "    feature_count = len(gdf)\n",
    "    layer_url = wfs.url\n",
    "\n",
    "    log_entry = (\n",
    "        f\"[{timestamp}] Retrieved layer '{layer_name}' from '{layer_url}'\\n\"\n",
    "        f\"Saved to: {filename} | Features: {feature_count}\\n\\n\"\n",
    "    )\n",
    "\n",
    "    # Append to log file (UTF-8 encoded)\n",
    "    with open(log_path, \"a\", encoding=\"utf-8\") as log_file:\n",
    "        log_file.write(log_entry)\n",
    "\n",
    "    print(f\"Saved {filename} with {feature_count} features. Logged to '{log_path}'.\")"
   ]
  },
  {
   "cell_type": "code",
   "execution_count": 6,
   "id": "24d75544-6c8a-4e1b-be75-a598b4103252",
   "metadata": {},
   "outputs": [],
   "source": [
    "# Load the GeoJSON file into a GeoPandas\n",
    "geojson_path = \"../data/raw/zh_geothermal_probes.geojson\"\n",
    "zh_geothermal_probes_gdf = gpd.read_file(geojson_path)"
   ]
  },
  {
   "cell_type": "code",
   "execution_count": 7,
   "id": "41816f62-afd3-4a34-94ce-b86ea6c3a27f",
   "metadata": {},
   "outputs": [],
   "source": [
    "# Check the current CRS (if None, set to Swiss LV95)\n",
    "if zh_geothermal_probes_gdf.crs is None:\n",
    "    zh_geothermal_probes_gdf.set_crs(epsg=2056, inplace=True)\n",
    "\n",
    "# Initialize the transformer from CH1903+ (LV95) to WGS84\n",
    "transformer = Transformer.from_crs(\"EPSG:2056\", \"EPSG:4326\", always_xy=True)\n",
    "\n",
    "# Apply coordinate transformation manually\n",
    "zh_geothermal_probes_gdf[['lon', 'lat']] = zh_geothermal_probes_gdf.apply(\n",
    "    lambda row: pd.Series(transformer.transform(row.geometry.x, row.geometry.y)),\n",
    "    axis=1\n",
    ")\n",
    "\n",
    "# Ensure no invalid coordinates\n",
    "zh_geothermal_probes_gdf = zh_geothermal_probes_gdf.dropna(subset=['lon', 'lat'])"
   ]
  },
  {
   "cell_type": "code",
   "execution_count": 8,
   "id": "98a1e744-40eb-4008-aa08-f4d8647d6353",
   "metadata": {},
   "outputs": [
    {
     "name": "stdout",
     "output_type": "stream",
     "text": [
      "Total geothermal probes: 35927\n"
     ]
    }
   ],
   "source": [
    "# Print the number of geothermal probes in the dataset\n",
    "print(f\"Total geothermal probes: {len(zh_geothermal_probes_gdf)}\")"
   ]
  },
  {
   "cell_type": "markdown",
   "id": "b98c98f3-1db8-48e2-b01d-fad4b57a1fec",
   "metadata": {},
   "source": [
    "A first transformed version of the dataset, with its additional coordinate variables, can be saved locally to our transformed data layer."
   ]
  },
  {
   "cell_type": "code",
   "execution_count": 9,
   "id": "6d6dce04-eea0-4abe-ab50-71bf066ddea3",
   "metadata": {},
   "outputs": [
    {
     "name": "stdout",
     "output_type": "stream",
     "text": [
      "File saved under ../data/transformed/zh_geothermal_probes.geojson\n"
     ]
    }
   ],
   "source": [
    "save_path = \"../data/transformed/zh_geothermal_probes.geojson\"\n",
    "zh_geothermal_probes_gdf.to_file(save_path, driver=\"GeoJSON\")\n",
    "print(f\"File saved under {save_path}\")"
   ]
  }
 ],
 "metadata": {
  "kernelspec": {
   "display_name": "Python 3 (ipykernel)",
   "language": "python",
   "name": "python3"
  },
  "language_info": {
   "codemirror_mode": {
    "name": "ipython",
    "version": 3
   },
   "file_extension": ".py",
   "mimetype": "text/x-python",
   "name": "python",
   "nbconvert_exporter": "python",
   "pygments_lexer": "ipython3",
   "version": "3.11.4"
  }
 },
 "nbformat": 4,
 "nbformat_minor": 5
}
