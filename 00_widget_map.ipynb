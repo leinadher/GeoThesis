{
 "cells": [
  {
   "cell_type": "markdown",
   "id": "84ed2671-0eef-4e18-8490-8c08803002e6",
   "metadata": {},
   "source": [
    "# 00 - Kanton Zürich - Map Widget\n",
    "### Author: Daniel Herrera-Russert\n",
    "#### February 03, 2025"
   ]
  },
  {
   "cell_type": "markdown",
   "id": "b2e669c8-a0e4-4734-807b-dadff549bcd4",
   "metadata": {},
   "source": [
    "## 1. Querying Geothermal Probe Allowance Based on Location\n",
    "\n",
    "To enable a seamless querying mechanism for determining the allowance status of a given location, we introduce a function that performs spatial queries on the processed geographical allowability dataset. The ultimate goal is to integrate this functionality into a UI-based application featuring an interactive map widget. \n",
    "\n",
    "Since standard map tile providers operate in **WGS84 coordinates**, while Swiss geospatial datasets maintain higher accuracy in **LV95 (Swiss Coordinate System)**, we will preserve all datasets in LV95 for compatibility with other Swiss geodata. However, user inputs will be provided in WGS84 and must be converted accordingly before performing spatial operations.\n",
    "\n",
    "The following code is based on a function which takes **WGS84 coordinates as input**, converts them to LV95, and checks their intersection with the preprocessed restriction polygons. If a match is found, it returns the corresponding restriction category as a string. \n",
    "\n",
    "Additionaly, the depth limitation function, which is imported as a package named `depth_query`, retrieves elevation and maximum allowable borehole depth for a given coordinate in the Canton of Zürich by making an HTTP GET request to the Zürich maps API. First, the input coordinates in WGS84 format are transformed into the Swiss LV95 coordinate system using `pyproj.Transformer`, as the API requires queries in LV95. The function then constructs a URL with the converted coordinates and sends a request using the `requests` library. The response, which is in HTML format, is parsed using `BeautifulSoup` to extract relevant information. Specifically, it searches for numerical values associated with elevation (marked as \"Höhe\") and depth constraints (marked as \"Meter ab Terrain\") using regular expressions."
   ]
  },
  {
   "cell_type": "code",
   "execution_count": 1,
   "id": "f7f927d5-2266-4ca1-a3aa-abfe97735901",
   "metadata": {},
   "outputs": [],
   "source": [
    "# !pip install jupyterlab-widgets ipywidgets"
   ]
  },
  {
   "cell_type": "code",
   "execution_count": 2,
   "id": "7872cb60-1224-4cea-abf7-d8c7fef7f352",
   "metadata": {},
   "outputs": [],
   "source": [
    "import ipyleaflet\n",
    "import geopandas as gpd\n",
    "import json\n",
    "import pyproj\n",
    "from shapely.geometry import Point\n",
    "import ipywidgets as widgets\n",
    "from scripts.depth_query import get_depth_info # Depth calculator"
   ]
  },
  {
   "cell_type": "code",
   "execution_count": 3,
   "id": "be3565df-e67d-4629-a95d-df184b97085f",
   "metadata": {},
   "outputs": [],
   "source": [
    "# Load the cleaned dataset\n",
    "zh_cleaned_gdf = gpd.read_file(\"data/transformed/zh_combined_restrictions.geojson\")\n",
    "\n",
    "# Ensure the dataset is in LV95 (Swiss Coordinate System)\n",
    "zh_cleaned_gdf = zh_cleaned_gdf.to_crs(\"EPSG:2056\")\n",
    "\n",
    "# Load the Zürich boundary GeoJSON\n",
    "boundary_gdf = gpd.read_file(\"data/raw/zh_boundary.geojson\")\n",
    "boundary_geojson = json.loads(boundary_gdf.to_json())  # Convert to JSON format"
   ]
  },
  {
   "cell_type": "code",
   "execution_count": 4,
   "id": "9d3fef1a-bb73-47a3-905e-0b1e7869e1ef",
   "metadata": {},
   "outputs": [
    {
     "data": {
      "application/vnd.jupyter.widget-view+json": {
       "model_id": "d701a8572069493a9555caa7b521a56a",
       "version_major": 2,
       "version_minor": 0
      },
      "text/plain": [
       "Map(center=[47.3769, 8.5417], controls=(ZoomControl(options=['position', 'zoom_in_text', 'zoom_in_title', 'zoo…"
      ]
     },
     "metadata": {},
     "output_type": "display_data"
    },
    {
     "data": {
      "application/vnd.jupyter.widget-view+json": {
       "model_id": "353372541af74385a403390687aa5815",
       "version_major": 2,
       "version_minor": 0
      },
      "text/plain": [
       "Output()"
      ]
     },
     "metadata": {},
     "output_type": "display_data"
    }
   ],
   "source": [
    "# Initialize ipyleaflet map centered on Zürich\n",
    "m = ipyleaflet.Map(center=(47.3769, 8.5417), zoom=10)\n",
    "\n",
    "# Create a GeoJSON layer for the boundary\n",
    "boundary_layer = ipyleaflet.GeoJSON(\n",
    "    data=boundary_geojson,\n",
    "    style={\"color\": \"gray\", \"fillOpacity\": 0.2},  # Boundary style\n",
    "    name=\"Zürich Boundary\"\n",
    ")\n",
    "\n",
    "# Add the boundary layer to the map\n",
    "m.add_layer(boundary_layer)\n",
    "\n",
    "# Create an output widget\n",
    "output = widgets.Output()\n",
    "\n",
    "# Create a draggable marker\n",
    "marker = ipyleaflet.Marker(location=(47.3769, 8.5417), draggable=True)\n",
    "m.add_layer(marker)\n",
    "\n",
    "# Define function for coordinate conversion & restriction query\n",
    "def check_restriction(lat, lon):\n",
    "    \"\"\"Takes WGS84 latitude & longitude and returns the restriction status.\"\"\"\n",
    "    \n",
    "    # Convert user coordinates from WGS84 to LV95\n",
    "    wgs84_to_lv95 = pyproj.Transformer.from_crs(\"EPSG:4326\", \"EPSG:2056\", always_xy=True)\n",
    "    lv95_x, lv95_y = wgs84_to_lv95.transform(lon, lat)\n",
    "    \n",
    "    # Create a point in LV95\n",
    "    user_point_lv95 = Point(lv95_x, lv95_y)\n",
    "\n",
    "    # Check if the point falls within any restriction area\n",
    "    matching_row = zh_cleaned_gdf[zh_cleaned_gdf.contains(user_point_lv95)]\n",
    "\n",
    "    if not matching_row.empty:\n",
    "        return matching_row.iloc[0][\"restrictions\"]\n",
    "    else:\n",
    "        return \"❌ Outside of Canton Limits!\"\n",
    "\n",
    "# Function to handle marker drag event\n",
    "def on_marker_drag(change):\n",
    "    \"\"\"Triggered when marker is dragged to a new location.\"\"\"\n",
    "    lat, lon = marker.location  # Get new marker location\n",
    "    \n",
    "    # Query restriction status\n",
    "    restriction_value = check_restriction(lat, lon)\n",
    "\n",
    "    # Query depth information\n",
    "    elevation, depth_max = get_depth_info(lat, lon)\n",
    "    \n",
    "    # Display result\n",
    "    with output:\n",
    "        output.clear_output()\n",
    "        print(f\"📍 Dragged to: ({lat:.5f}, {lon:.5f}) → Status: {restriction_value}\")\n",
    "        print(f\"🏔️ Elevation: {elevation} | 🔽 Max Depth: {depth_max}\")\n",
    "\n",
    "# Attach event listener for dragging\n",
    "marker.observe(on_marker_drag, \"location\")\n",
    "\n",
    "# Display map and output\n",
    "display(m, output)"
   ]
  },
  {
   "cell_type": "code",
   "execution_count": null,
   "id": "0812d7cb-fc49-40cd-a1da-87f5896c3366",
   "metadata": {},
   "outputs": [],
   "source": []
  }
 ],
 "metadata": {
  "kernelspec": {
   "display_name": "Python 3 (ipykernel)",
   "language": "python",
   "name": "python3"
  },
  "language_info": {
   "codemirror_mode": {
    "name": "ipython",
    "version": 3
   },
   "file_extension": ".py",
   "mimetype": "text/x-python",
   "name": "python",
   "nbconvert_exporter": "python",
   "pygments_lexer": "ipython3",
   "version": "3.11.4"
  }
 },
 "nbformat": 4,
 "nbformat_minor": 5
}
