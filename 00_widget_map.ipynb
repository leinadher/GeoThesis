{
 "cells": [
  {
   "cell_type": "markdown",
   "id": "84ed2671-0eef-4e18-8490-8c08803002e6",
   "metadata": {},
   "source": [
    "# 00 - Kanton Zürich - Map Widget\n",
    "### Author: Daniel Herrera-Russert\n",
    "#### February 03, 2025"
   ]
  },
  {
   "cell_type": "markdown",
   "id": "b2e669c8-a0e4-4734-807b-dadff549bcd4",
   "metadata": {},
   "source": [
    "## 1. Querying Geothermal Probe Allowance Based on Location\n",
    "\n",
    "To enable a seamless querying mechanism for determining the allowance status of a given location, we introduce a function that performs spatial queries on the processed geographical allowability dataset. The ultimate goal is to integrate this functionality into a UI-based application featuring an interactive map widget. \n",
    "\n",
    "Since standard map tile providers operate in **WGS84 coordinates**, while Swiss geospatial datasets maintain higher accuracy in **LV95 (Swiss Coordinate System)**, we will preserve all datasets in LV95 for compatibility with other Swiss geodata. However, user inputs will be provided in WGS84 and must be converted accordingly before performing spatial operations.\n",
    "\n",
    "The following code is based on a function which takes **WGS84 coordinates as input**, converts them to LV95, and checks their intersection with the preprocessed restriction polygons. If a match is found, it returns the corresponding restriction category as a string. \n",
    "\n",
    "Additionaly, the depth limitation function, which is imported as a package named `depth_query`, retrieves elevation and maximum allowable borehole depth for a given coordinate in the Canton of Zürich by making an HTTP GET request to the Zürich maps API. First, the input coordinates in WGS84 format are transformed into the Swiss LV95 coordinate system using `pyproj.Transformer`, as the API requires queries in LV95. The function then constructs a URL with the converted coordinates and sends a request using the `requests` library. The response, which is in HTML format, is parsed using `BeautifulSoup` to extract relevant information. Specifically, it searches for numerical values associated with elevation (marked as \"Höhe\") and depth constraints (marked as \"Meter ab Terrain\") using regular expressions."
   ]
  },
  {
   "cell_type": "code",
   "execution_count": 1,
   "id": "7872cb60-1224-4cea-abf7-d8c7fef7f352",
   "metadata": {},
   "outputs": [],
   "source": [
    "import os\n",
    "import ipyleaflet\n",
    "import geopandas as gpd\n",
    "import numpy as np\n",
    "import json\n",
    "import pyproj\n",
    "from shapely.geometry import Point\n",
    "import ipywidgets as widgets\n",
    "from scripts.depth_query import get_depth_info # Depth calculator\n",
    "from scipy.spatial import cKDTree # For GeoJSON queries\n",
    "import joblib # To load the xgboost model\n",
    "import time\n",
    "from threading import Timer"
   ]
  },
  {
   "cell_type": "code",
   "execution_count": 2,
   "id": "11563a57-7fbf-4fcb-b569-50f3103095bf",
   "metadata": {},
   "outputs": [],
   "source": [
    "# For colored prints :)\n",
    "class style():\n",
    "  RED = '\\033[31m'\n",
    "  GREEN = '\\033[32m'\n",
    "  BLUE = '\\033[34m'\n",
    "  RESET = '\\033[0m'"
   ]
  },
  {
   "cell_type": "code",
   "execution_count": 2,
   "id": "be3565df-e67d-4629-a95d-df184b97085f",
   "metadata": {},
   "outputs": [],
   "source": [
    "# Load the cleaned dataset\n",
    "zh_cleaned_gdf = gpd.read_file(\"data/transformed/zh_combined_restrictions.geojson\")\n",
    "\n",
    "# Ensure the dataset is in LV95 (Swiss Coordinate System)\n",
    "zh_cleaned_gdf = zh_cleaned_gdf.to_crs(\"EPSG:2056\")\n",
    "\n",
    "# Load the Zürich boundary GeoJSON\n",
    "boundary_gdf = gpd.read_file(\"data/raw/zh_boundary.geojson\")\n",
    "boundary_geojson = json.loads(boundary_gdf.to_json())  # Convert to JSON format\n",
    "\n",
    "# Load borehole dataset\n",
    "geojson_path = \"data/transformed/zh_geothermal_probes_with_density_elevation.geojson\"\n",
    "zh_geothermal_probes_gdf = gpd.read_file(geojson_path)\n",
    "\n",
    "# Create spatial index for fast nearest neighbor search\n",
    "borehole_coords = np.vstack((zh_geothermal_probes_gdf.geometry.x, zh_geothermal_probes_gdf.geometry.y)).T\n",
    "borehole_tree = cKDTree(borehole_coords)"
   ]
  },
  {
   "cell_type": "markdown",
   "id": "ce92113c-6888-4445-a004-4ab6f20fa777",
   "metadata": {},
   "source": [
    "---\n",
    "\n",
    "## 2. Drag a point, evaluate allowability and query GIS data\n",
    "\n",
    "The first iteration of the tool concept is an interactive map widget which incorporates a draggable pin point, which updates the output information based on the underlying datasets. Based on each new position, the code performs the following:\n",
    "\n",
    "- If the point lands outside the Canton boundaries, a warning is raised and no further steps are made.\n",
    "- If the point lands within the Canton boundaries:\n",
    "    -  The **elevation** above sea level is scraped from the Zürich GIS portal, and the following conditions are evaluated:\n",
    "        -  If the location is `Not allowed` for geothermal surface heat probes (EWS), a warning is raised and no further steps are made.\n",
    "        -  If the location is flagged as `Allowed with conditions` or `Allowed`, it is indicated as output, and the **maximum allowed probe depth** in that area is scraped from the GIS portal and included in the output."
   ]
  },
  {
   "cell_type": "code",
   "execution_count": 9,
   "id": "9d3fef1a-bb73-47a3-905e-0b1e7869e1ef",
   "metadata": {},
   "outputs": [
    {
     "data": {
      "application/vnd.jupyter.widget-view+json": {
       "model_id": "91558b56416342af8e21dcd98ee0da40",
       "version_major": 2,
       "version_minor": 0
      },
      "text/plain": [
       "Map(center=[47.3769, 8.5417], controls=(ZoomControl(options=['position', 'zoom_in_text', 'zoom_in_title', 'zoo…"
      ]
     },
     "metadata": {},
     "output_type": "display_data"
    },
    {
     "data": {
      "application/vnd.jupyter.widget-view+json": {
       "model_id": "34024802879d4782bb852d3e70c63fba",
       "version_major": 2,
       "version_minor": 0
      },
      "text/plain": [
       "Output()"
      ]
     },
     "metadata": {},
     "output_type": "display_data"
    }
   ],
   "source": [
    "# Initialize ipyleaflet map centered on Zürich\n",
    "m = ipyleaflet.Map(center=(47.3769, 8.5417), zoom=10)\n",
    "\n",
    "# Create a GeoJSON layer for the boundary\n",
    "boundary_layer = ipyleaflet.GeoJSON(\n",
    "    data=boundary_geojson,\n",
    "    style={\"color\": \"gray\", \"fillOpacity\": 0.2},  # Boundary style\n",
    "    name=\"Zürich Boundary\"\n",
    ")\n",
    "\n",
    "# Add the boundary layer to the map\n",
    "m.add_layer(boundary_layer)\n",
    "\n",
    "# Create an output widget\n",
    "output = widgets.Output()\n",
    "\n",
    "# Create a draggable marker\n",
    "marker = ipyleaflet.Marker(location=(47.3769, 8.5417), draggable=True)\n",
    "m.add_layer(marker)\n",
    "\n",
    "# Define function for coordinate conversion & restriction query\n",
    "def check_restriction(lat, lon):\n",
    "    \"\"\"Takes WGS84 latitude & longitude and returns the restriction status.\"\"\"\n",
    "    \n",
    "    # Convert user coordinates from WGS84 to LV95\n",
    "    wgs84_to_lv95 = pyproj.Transformer.from_crs(\"EPSG:4326\", \"EPSG:2056\", always_xy=True)\n",
    "    lv95_x, lv95_y = wgs84_to_lv95.transform(lon, lat)\n",
    "    \n",
    "    # Create a point in LV95\n",
    "    user_point_lv95 = Point(lv95_x, lv95_y)\n",
    "\n",
    "    # Check if the point falls within any restriction area\n",
    "    matching_row = zh_cleaned_gdf[zh_cleaned_gdf.contains(user_point_lv95)]\n",
    "\n",
    "    if not matching_row.empty:\n",
    "        return matching_row.iloc[0][\"restrictions\"]\n",
    "    else:\n",
    "        return f\"{style.RED}❌ Outside of Canton Limits!{style.RESET}\"\n",
    "\n",
    "# Function to handle marker drag event\n",
    "def on_marker_drag(change):\n",
    "    \"\"\"Triggered when marker is dragged to a new location.\"\"\"\n",
    "    lat, lon = marker.location  # Get new marker location\n",
    "    \n",
    "    # Query restriction status\n",
    "    restriction_value = check_restriction(lat, lon)\n",
    "\n",
    "    # Query depth information\n",
    "    elevation, depth_max = get_depth_info(lat, lon)\n",
    "    \n",
    "    # Display result\n",
    "    with output:\n",
    "        output.clear_output()\n",
    "        print(f\"📍 Dragged to: ({lat:.5f}, {lon:.5f}) → Status: {restriction_value}\")\n",
    "        print(f\"🏔️ Elevation: {elevation} | 🔽 Max Depth: {depth_max}\")\n",
    "\n",
    "# Attach event listener for dragging\n",
    "marker.observe(on_marker_drag, \"location\")\n",
    "\n",
    "# Display map and output\n",
    "display(m, output)"
   ]
  },
  {
   "cell_type": "markdown",
   "id": "fc572fa7-bd96-4638-aa15-82ef2ac6bd1d",
   "metadata": {},
   "source": [
    "---\n",
    "\n",
    "## 3. Adding calculation of independent variables from dragged point\n",
    "\n",
    "The second step involves incorporating the transformed borehole dataset, and preparing the point-specific variables for the predictive model. The following code is a proof of concept, as it is expected that some of the predictive variables will be input by the user in the final application tool. It also incorporates normalization operations which set the data to the same format used for training the predictive model. This iteration expands on the first one by adding the following features:\n",
    "\n",
    "- For any location flagged as `Allowed` and `Allowed with conditions`, data is collected and coded the same as in the borehole dataset:\n",
    "    - `elevation`: is scraped from the GIS portal.\n",
    "    - `Gesamtsondenzahl`: *is assigned a default value for now*.\n",
    "    - `count_100m`: for each new dragged position, the number of neighbouring probes within a 100 m radius are queried and stored.\n",
    "    - `nearest_borehole_dist`: for each new dragged position, the distance to the nearest neighbouring borehole is calculated.\n",
    "    - `count_100m_norm`: the new `count_100m` value is normalized according to the other data and stored.\n",
    "    - `neares_borehole_dist_norm`: the new `nearest_borehole_dist` value is normalized according to the other data and stored.\n",
    "    - `Sondentiefe`: *the maximum allowed is set as the probe depth for now* .\n",
    "    - `bottom_elevation`: the elevation of the lowest point of the borehole is calculated by subtracting the depth value from the elevation.\n",
    "\n",
    "The comments in cursive represent variables which are for the moment set with default values, but are planned to be interactive in a future iteration."
   ]
  },
  {
   "cell_type": "code",
   "execution_count": 11,
   "id": "32db56c7-0921-496b-b7bd-c47b129895bc",
   "metadata": {},
   "outputs": [
    {
     "data": {
      "application/vnd.jupyter.widget-view+json": {
       "model_id": "6bcb09a09f054623a1bb7142463646ab",
       "version_major": 2,
       "version_minor": 0
      },
      "text/plain": [
       "Map(center=[47.3769, 8.5417], controls=(ZoomControl(options=['position', 'zoom_in_text', 'zoom_in_title', 'zoo…"
      ]
     },
     "metadata": {},
     "output_type": "display_data"
    },
    {
     "data": {
      "application/vnd.jupyter.widget-view+json": {
       "model_id": "0a67c524245742c2addec8d75dec2bdb",
       "version_major": 2,
       "version_minor": 0
      },
      "text/plain": [
       "Output()"
      ]
     },
     "metadata": {},
     "output_type": "display_data"
    }
   ],
   "source": [
    "# Function to compute features\n",
    "def compute_features(lat, lon):\n",
    "    \"\"\"Computes model input features from dragged map point.\"\"\"\n",
    "    \n",
    "    # Convert coordinates to Swiss LV95\n",
    "    wgs84_to_lv95 = pyproj.Transformer.from_crs(\"EPSG:4326\", \"EPSG:2056\", always_xy=True)\n",
    "    lv95_x, lv95_y = wgs84_to_lv95.transform(lon, lat)\n",
    "    user_point = Point(lv95_x, lv95_y)\n",
    "\n",
    "    # Check if the point is in an allowed area\n",
    "    restriction_status = zh_cleaned_gdf[zh_cleaned_gdf.contains(user_point)]\n",
    "    if restriction_status.empty:\n",
    "        return f\"{style.RED}❌ Outside of Canton Limits!{style.RESET}\", None\n",
    "    restriction_value = restriction_status.iloc[0][\"restrictions\"]\n",
    "    if restriction_value not in [\"Allowed\", \"Allowed with conditions\"]:\n",
    "        return f\"⛔ {restriction_value}\", None\n",
    "\n",
    "    # Fetch elevation and depth\n",
    "    elevation, depth_max = get_depth_info(lat, lon)\n",
    "    \n",
    "    # Count boreholes within 100m\n",
    "    neighbors_within_100m = borehole_tree.query_ball_point([lv95_x, lv95_y], 100)\n",
    "    count_100m = len(neighbors_within_100m)\n",
    "\n",
    "    # Replace NaN values with 0 for computed features\n",
    "    count_100m = count_100m if not np.isnan(count_100m) else 0\n",
    "\n",
    "    # Compute nearest borehole distance\n",
    "    if neighbors_within_100m:\n",
    "        distances, _ = borehole_tree.query([lv95_x, lv95_y], k=2)  # k=2 to ignore self\n",
    "        nearest_borehole_dist = distances[1]  # Second element is the nearest neighbor\n",
    "\n",
    "    # Normalize using max values in dataset\n",
    "    count_100m_norm = count_100m / zh_geothermal_probes_gdf[\"count_100m\"].max()\n",
    "    nearest_borehole_dist_norm = nearest_borehole_dist / zh_geothermal_probes_gdf[\"nearest_borehole_dist\"].max()\n",
    "\n",
    "    # User input (or fallback to depth max)\n",
    "    sondentiefe = depth_max  # Placeholder, will later be user-defined\n",
    "    bottom_elevation = elevation - sondentiefe\n",
    "\n",
    "    # Return computed values\n",
    "    return restriction_value, {\n",
    "        \"Gesamtsondenzahl\": 3,  # Placeholder user input\n",
    "        \"count_100m\": count_100m,\n",
    "        \"nearest_borehole_dist\": nearest_borehole_dist,\n",
    "        \"count_100m_norm\": count_100m_norm,\n",
    "        \"nearest_borehole_dist_norm\": nearest_borehole_dist_norm,\n",
    "        \"Sondentiefe (max)\": sondentiefe,\n",
    "        \"bottom_elevation\": bottom_elevation\n",
    "    }\n",
    "\n",
    "# Update map event\n",
    "def on_marker_drag(change):\n",
    "    lat, lon = marker.location\n",
    "    restriction_status, features = compute_features(lat, lon)\n",
    "    \n",
    "    with output:\n",
    "        output.clear_output()\n",
    "        print(f\"📍 Dragged to: ({lat:.5f}, {lon:.5f}) → Status: {restriction_status}\")\n",
    "        if features:\n",
    "            print(\"Computed Features for Model Input:\")\n",
    "            for key, value in features.items():\n",
    "                print(f\"🔹 {key}: {value:.4f}\")\n",
    "\n",
    "# Initialize map\n",
    "m = ipyleaflet.Map(center=(47.3769, 8.5417), zoom=10)\n",
    "marker = ipyleaflet.Marker(location=(47.3769, 8.5417), draggable=True)\n",
    "m.add_layer(marker)\n",
    "\n",
    "# Add the boundary layer to the map\n",
    "boundary_layer = ipyleaflet.GeoJSON(\n",
    "    data=boundary_geojson,\n",
    "    style={\"color\": \"gray\", \"fillOpacity\": 0.2},  # Boundary style\n",
    "    name=\"Zürich Boundary\"\n",
    ")\n",
    "m.add_layer(boundary_layer)\n",
    "\n",
    "output = widgets.Output()\n",
    "marker.observe(on_marker_drag, \"location\")\n",
    "\n",
    "display(m, output)"
   ]
  },
  {
   "cell_type": "markdown",
   "id": "8956ec37-26c0-4703-9468-f4776435cb51",
   "metadata": {},
   "source": [
    "---\n",
    "\n",
    "## 4. Adding predicted energy yield from model"
   ]
  },
  {
   "cell_type": "raw",
   "id": "b6f36150-4dc2-44ba-b997-263dafc6a1b3",
   "metadata": {},
   "source": [
    "import joblib\n",
    "import numpy as np\n",
    "import pyproj\n",
    "import ipyleaflet\n",
    "import ipywidgets as widgets\n",
    "from shapely.geometry import Point"
   ]
  },
  {
   "cell_type": "code",
   "execution_count": 12,
   "id": "df8c1517-4202-46e5-958a-a96cfa0ecc72",
   "metadata": {},
   "outputs": [
    {
     "name": "stdout",
     "output_type": "stream",
     "text": [
      "✅ Model Loaded Successfully\n"
     ]
    },
    {
     "data": {
      "application/vnd.jupyter.widget-view+json": {
       "model_id": "1f5cc17cc50c41d386b652a85eed787b",
       "version_major": 2,
       "version_minor": 0
      },
      "text/plain": [
       "Map(center=[47.3769, 8.5417], controls=(ZoomControl(options=['position', 'zoom_in_text', 'zoom_in_title', 'zoo…"
      ]
     },
     "metadata": {},
     "output_type": "display_data"
    },
    {
     "data": {
      "application/vnd.jupyter.widget-view+json": {
       "model_id": "ad8c5298b41144a6b9c8004655361fe1",
       "version_major": 2,
       "version_minor": 0
      },
      "text/plain": [
       "Output()"
      ]
     },
     "metadata": {},
     "output_type": "display_data"
    }
   ],
   "source": [
    "# Load the trained XGBoost model\n",
    "xgb_model = joblib.load(\"models/xgb_zh_energy_yield.pkl\")\n",
    "print(\"✅ Model Loaded Successfully\")\n",
    "\n",
    "# Function to predict energy yield\n",
    "def predict_energy_yield(features):\n",
    "    \"\"\"Predict energy yield using the trained XGBoost model.\"\"\"\n",
    "    features_array = np.array(features).reshape(1, -1)  # Convert to 2D array\n",
    "    prediction = xgb_model.predict(features_array)[0]  # Predict and extract single value\n",
    "    return prediction\n",
    "\n",
    "# Function to compute features\n",
    "def compute_features(lat, lon):\n",
    "    \"\"\"Computes model input features from dragged map point.\"\"\"\n",
    "    \n",
    "    # Convert coordinates to Swiss LV95\n",
    "    wgs84_to_lv95 = pyproj.Transformer.from_crs(\"EPSG:4326\", \"EPSG:2056\", always_xy=True)\n",
    "    lv95_x, lv95_y = wgs84_to_lv95.transform(lon, lat)\n",
    "    user_point = Point(lv95_x, lv95_y)\n",
    "\n",
    "    # Check if the point is in an allowed area\n",
    "    restriction_status = zh_cleaned_gdf[zh_cleaned_gdf.contains(user_point)]\n",
    "    if restriction_status.empty:\n",
    "        return f\"{style.RED}❌ Outside of Canton Limits!{style.RESET}\", None\n",
    "    restriction_value = restriction_status.iloc[0][\"restrictions\"]\n",
    "    if restriction_value not in [\"Allowed\", \"Allowed with conditions\"]:\n",
    "        return f\"⛔ {restriction_value}\", None\n",
    "\n",
    "    # Fetch elevation and depth\n",
    "    elevation, depth_max = get_depth_info(lat, lon)\n",
    "    \n",
    "    # Count boreholes within 100m\n",
    "    neighbors_within_100m = borehole_tree.query_ball_point([lv95_x, lv95_y], 100)\n",
    "    count_100m = len(neighbors_within_100m)\n",
    "\n",
    "    # Replace NaN values with 0 for computed features\n",
    "    count_100m = count_100m if not np.isnan(count_100m) else 0\n",
    "\n",
    "    # Compute nearest borehole distance\n",
    "    if neighbors_within_100m:\n",
    "        distances, _ = borehole_tree.query([lv95_x, lv95_y], k=2)  # k=2 to ignore self\n",
    "        nearest_borehole_dist = distances[1]  # Second element is the nearest neighbor\n",
    "\n",
    "    # Normalize using max values in dataset\n",
    "    count_100m_norm = count_100m / zh_geothermal_probes_gdf[\"count_100m\"].max()\n",
    "    nearest_borehole_dist_norm = nearest_borehole_dist / zh_geothermal_probes_gdf[\"nearest_borehole_dist\"].max()\n",
    "\n",
    "    # User input (or fallback to depth max)\n",
    "    sondentiefe = depth_max  # Placeholder, will later be user-defined\n",
    "    bottom_elevation = elevation - sondentiefe\n",
    "\n",
    "    # Return computed values\n",
    "    return restriction_value, {\n",
    "        \"Gesamtsondenzahl\": 3,  # Placeholder user input\n",
    "        \"count_100m\": count_100m,\n",
    "        \"nearest_borehole_dist\": nearest_borehole_dist,\n",
    "        \"count_100m_norm\": count_100m_norm,\n",
    "        \"nearest_borehole_dist_norm\": nearest_borehole_dist_norm,\n",
    "        \"Sondentiefe (max)\": sondentiefe,\n",
    "        \"bottom_elevation\": bottom_elevation\n",
    "    }\n",
    "\n",
    "# Update map event\n",
    "def on_marker_drag(change):\n",
    "    lat, lon = marker.location\n",
    "    restriction_status, features = compute_features(lat, lon)\n",
    "    \n",
    "    with output:\n",
    "        output.clear_output()\n",
    "        print(f\"📍 Dragged to: ({lat:.5f}, {lon:.5f}) → Status: {restriction_status}\")\n",
    "        if features:\n",
    "            print(\"Computed Features for Model Input:\")\n",
    "            for key, value in features.items():\n",
    "                print(f\"🔹 {key}: {value:.4f}\")\n",
    "\n",
    "# Initialize map\n",
    "m = ipyleaflet.Map(center=(47.3769, 8.5417), zoom=10)\n",
    "marker = ipyleaflet.Marker(location=(47.3769, 8.5417), draggable=True)\n",
    "m.add_layer(marker)\n",
    "\n",
    "# Add the boundary layer to the map\n",
    "boundary_layer = ipyleaflet.GeoJSON(\n",
    "    data=boundary_geojson,\n",
    "    style={\"color\": \"gray\", \"fillOpacity\": 0.2},  # Boundary style\n",
    "    name=\"Zürich Boundary\"\n",
    ")\n",
    "m.add_layer(boundary_layer)\n",
    "\n",
    "output = widgets.Output()\n",
    "marker.observe(on_marker_drag, \"location\")\n",
    "\n",
    "display(m, output)"
   ]
  },
  {
   "cell_type": "code",
   "execution_count": null,
   "id": "0c9cf7e6-66c7-4e2f-8ba1-bd4322cfa369",
   "metadata": {},
   "outputs": [],
   "source": []
  }
 ],
 "metadata": {
  "kernelspec": {
   "display_name": "Python 3 (ipykernel)",
   "language": "python",
   "name": "python3"
  },
  "language_info": {
   "codemirror_mode": {
    "name": "ipython",
    "version": 3
   },
   "file_extension": ".py",
   "mimetype": "text/x-python",
   "name": "python",
   "nbconvert_exporter": "python",
   "pygments_lexer": "ipython3",
   "version": "3.11.4"
  }
 },
 "nbformat": 4,
 "nbformat_minor": 5
}
